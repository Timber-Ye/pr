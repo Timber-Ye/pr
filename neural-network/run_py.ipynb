{
 "cells": [
  {
   "cell_type": "markdown",
   "metadata": {
    "pycharm": {
     "name": "#%% md\n"
    }
   },
   "source": [
    "# Forward Neural Network Training"
   ]
  },
  {
   "cell_type": "code",
   "execution_count": null,
   "outputs": [],
   "source": [
    "%matplotlib inline\n",
    "DATA_DIR = './samples.csv'\n",
    "eval_samples = [7, 8, 9, 17, 18, 19, 27, 28, 29]  # these samples are retained for model evaluation.\n",
    "\n",
    "\n",
    "lr = 5e-3  # learning rate\n",
    "n_epochs = 800  # number of epochs\n",
    "\n",
    "INPUT_DIM = 3  # dimension of feature\n",
    "OUTPUT_DIM = 3  # dimension of target\n",
    "HIDDEN_NUM = 8  # size of hidden layer"
   ],
   "metadata": {
    "collapsed": false,
    "pycharm": {
     "name": "#%%\n"
    }
   }
  },
  {
   "cell_type": "markdown",
   "source": [
    "## 1. Model Initialization"
   ],
   "metadata": {
    "collapsed": false,
    "pycharm": {
     "name": "#%% md\n"
    }
   }
  },
  {
   "cell_type": "code",
   "execution_count": null,
   "outputs": [],
   "source": [
    "from model import multiple_layer_perceptron as mlp\n",
    "import numpy as np\n",
    "\n",
    "net = mlp.get_model(INPUT_DIM, OUTPUT_DIM, HIDDEN_NUM)  # 3-layer forward neural network\n",
    "\n",
    "\n",
    "def squared_loss(y_hat, y):\n",
    "    \"\"\" MSE \"\"\"\n",
    "    return (y.reshape(y_hat.shape) - y_hat) ** 2 / 2, y.reshape(y_hat.shape) - y_hat\n",
    "\n",
    "def accuracy(y_hat, y):\n",
    "    \"\"\"计算预测正确的数量\"\"\"\n",
    "    _pred_label = np.argmax(y_hat, axis=1)\n",
    "    _label = np.argmax(y, axis=1)\n",
    "    return float(np.sum(_pred_label == _label))"
   ],
   "metadata": {
    "collapsed": false,
    "pycharm": {
     "name": "#%%\n"
    }
   }
  },
  {
   "cell_type": "markdown",
   "source": [
    "## 2. Model Training"
   ],
   "metadata": {
    "collapsed": false,
    "pycharm": {
     "name": "#%% md\n"
    }
   }
  },
  {
   "cell_type": "code",
   "execution_count": null,
   "outputs": [],
   "source": [
    "from data_util.DataLoader import DataSet, DataLoader\n",
    "from data_util.Animator import MyAnimator\n",
    "from train import train_per_epoch, eval_per_epoch\n",
    "\n",
    "print(\"start loading validating data ...\")\n",
    "validating_dataset = DataSet(DATA_DIR, eval_sample_idx=eval_samples, split='validate')\n",
    "validating_data_loader = DataLoader(validating_dataset, shuffle=True)\n",
    "print(\"The number of validating data is: %d.\" % len(validating_dataset))"
   ],
   "metadata": {
    "collapsed": false,
    "pycharm": {
     "name": "#%%\n"
    }
   }
  },
  {
   "cell_type": "markdown",
   "source": [
    "### (1) Stochastic Backpropagation"
   ],
   "metadata": {
    "collapsed": false,
    "pycharm": {
     "name": "#%% md\n"
    }
   }
  },
  {
   "cell_type": "code",
   "execution_count": null,
   "outputs": [],
   "source": [
    "print(\"start loading training data ...\")\n",
    "training_dataset = DataSet(DATA_DIR, eval_sample_idx=eval_samples, split='train')\n",
    "training_data_loader = DataLoader(training_dataset, 1, shuffle=True)  # batch_size is set to 1\n",
    "print(\"The number of training data is: %d.\" % len(training_dataset))\n",
    "\n",
    "animator = MyAnimator(xlabel='epoch', xlim=[1, n_epochs], ylim=[0.2, 1.0],\n",
    "                        legend=['train accuracy', 'test accuracy'])\n",
    "\n",
    "for epoch in range(n_epochs):\n",
    "\n",
    "    train_metrics = train_per_epoch(net, training_data_loader, squared_loss, lr, accuracy)\n",
    "    eval_metrics = eval_per_epoch(net, validating_data_loader, squared_loss, accuracy)\n",
    "    if epoch % 5 == 4:\n",
    "        animator.add(epoch + 1, (train_metrics[1], eval_metrics[1]))\n",
    "        \n",
    "print('Training mean loss: %f' % train_metrics[0])\n",
    "print('Training accuracy: %f' % train_metrics[1])\n",
    "print('Evaluating mean loss: %f' % eval_metrics[0])\n",
    "print('Evaluating accuracy: %f\\n' % eval_metrics[1])\n",
    "\n",
    "animator.savefig(\"../fig/test.pdf\")"
   ],
   "metadata": {
    "collapsed": false,
    "pycharm": {
     "name": "#%%\n"
    }
   }
  },
  {
   "cell_type": "markdown",
   "source": [
    "### (3) Batch Backpropagation"
   ],
   "metadata": {
    "collapsed": false,
    "pycharm": {
     "name": "#%% md\n"
    }
   }
  },
  {
   "cell_type": "code",
   "execution_count": null,
   "outputs": [],
   "source": [
    "net = mlp.get_model(INPUT_DIM, OUTPUT_DIM, HIDDEN_NUM)  # 3-layer forward neural network\n",
    "\n",
    "print(\"start loading training data ...\")\n",
    "training_dataset = DataSet(DATA_DIR, eval_sample_idx=eval_samples, split='train')\n",
    "training_data_loader = DataLoader(training_dataset, 27, shuffle=True)  # batch_size is set to 27\n",
    "print(\"The number of training data is: %d.\" % len(training_dataset))\n",
    "\n",
    "animator = MyAnimator(xlabel='epoch', xlim=[1, n_epochs], ylim=[0.2, 1.0],\n",
    "                        legend=['train accuracy', 'test accuracy'])\n",
    "\n",
    "for epoch in range(n_epochs):\n",
    "\n",
    "    train_metrics = train_per_epoch(net, training_data_loader, squared_loss, lr, accuracy)\n",
    "    eval_metrics = eval_per_epoch(net, validating_data_loader, squared_loss, accuracy)\n",
    "    if epoch % 5 == 4:\n",
    "        animator.add(epoch + 1, (train_metrics[1], eval_metrics[1]))\n",
    "\n",
    "print('Training mean loss: %f' % train_metrics[0])\n",
    "print('Training accuracy: %f' % train_metrics[1])\n",
    "print('Evaluating mean loss: %f' % eval_metrics[0])\n",
    "print('Evaluating accuracy: %f\\n' % eval_metrics[1])\n",
    "\n",
    "animator.savefig(\"../fig/test.pdf\")"
   ],
   "metadata": {
    "collapsed": false,
    "pycharm": {
     "name": "#%%\n"
    }
   }
  },
  {
   "cell_type": "code",
   "execution_count": null,
   "metadata": {},
   "outputs": [],
   "source": []
  }
 ],
 "metadata": {
  "kernelspec": {
   "display_name": "Python 3",
   "language": "python",
   "name": "python3"
  },
  "language_info": {
   "codemirror_mode": {
    "name": "ipython",
    "version": 3
   },
   "file_extension": ".py",
   "mimetype": "text/x-python",
   "name": "python",
   "nbconvert_exporter": "python",
   "pygments_lexer": "ipython3",
   "version": "3.9.13"
  }
 },
 "nbformat": 4,
 "nbformat_minor": 4
}