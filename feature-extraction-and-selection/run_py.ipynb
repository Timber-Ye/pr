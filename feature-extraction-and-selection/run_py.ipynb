{
 "cells": [
  {
   "cell_type": "markdown",
   "source": [
    "# Feature Extraction\n",
    "\n",
    "任务:采用 80%作样本作训练集，20%样本做测试集，报告降至不同维数时的分类性能。"
   ],
   "metadata": {
    "collapsed": false
   }
  },
  {
   "cell_type": "code",
   "execution_count": 1,
   "metadata": {
    "collapsed": true
   },
   "outputs": [],
   "source": [
    "# 以下分别是Vehicle数据集、ORL数据集存储路径。\n",
    "VEHICLE_DATASET_DIR = 'data/vehicle.txt'\n",
    "ORL_DATASET_DIR = 'data/ORLData_25.txt'\n",
    "\n",
    "# 读取数据集\n",
    "import numpy as np\n",
    "VEHICLE_DATASET = np.loadtxt(VEHICLE_DATASET_DIR, delimiter='\\t', dtype=int)\n",
    "VEHICLE_DATASET_FEATURES, VEHICLE_DATASET_LABEL = VEHICLE_DATASET[:, :-1], VEHICLE_DATASET[:, -1]\n",
    "VEHICLE_DATASET_NDIM = VEHICLE_DATASET_FEATURES.shape[1]\n",
    "\n",
    "ORL_DATASET = np.loadtxt(ORL_DATASET_DIR, delimiter='\\t', dtype=int)\n",
    "ORL_DATASET_FEATURES, ORL_DATASET_LABEL = ORL_DATASET[:, :-1], ORL_DATASET[:, -1]\n",
    "ORL_DATASET_NDIM = ORL_DATASET_FEATURES.shape[1]\n",
    "\n",
    "from Animator import MyAnimator"
   ]
  },
  {
   "cell_type": "markdown",
   "source": [
    "## Q1: PCA+KNN\n",
    "\n",
    "即首先 PCA 进行降维，然后采用最近邻分类器 (1 近邻分类器) 作为分类器进行分类。PCA+KNN: 即首先 PCA 进行降维，然后采用最近邻分类器 (1 近邻分类器) 作为分类器进行分类。\n",
    "\n",
    "### Vehicle数据集"
   ],
   "metadata": {
    "collapsed": false
   }
  },
  {
   "cell_type": "code",
   "execution_count": null,
   "outputs": [],
   "source": [
    "import pca\n",
    "\n",
    "print(\"[VEHICLE_DATASET PCA+KNN]\")\n",
    "vehicle_pca = pca.PCA()\n",
    "vehicle_pca.fit(VEHICLE_DATASET_FEATURES)\n",
    "\n",
    "vehicle_pca_knn_clf_acc = []\n",
    "# animator = MyAnimator(xlabel='n_components', xlim=[3, VEHICLE_DATASET_NDIM], ylim=[0.2, 1.0],\n",
    "#                       legend=['test accuracy'])  # 绘图\n",
    "\n",
    "for cnt, n_component in enumerate(range(3, VEHICLE_DATASET_NDIM, 3)):\n",
    "    acc = pca.pca_knn_clf(vehicle_pca, VEHICLE_DATASET_LABEL, n_component)  # PCA+KNN分类器\n",
    "    print(\"Number of dimensions reduced to {:^3d}, classification accuracy: {:.4f}\".format(n_component, acc))\n",
    "\n",
    "    vehicle_pca_knn_clf_acc.append(acc)\n",
    "    # animator.add(n_component, acc)\n",
    "\n",
    "# animator.savefig(\"fig/vehicle_pca_knn_clf.pdf\")"
   ],
   "metadata": {
    "collapsed": false
   }
  },
  {
   "cell_type": "markdown",
   "source": [
    "### ORL数据集"
   ],
   "metadata": {
    "collapsed": false
   }
  },
  {
   "cell_type": "code",
   "execution_count": null,
   "outputs": [],
   "source": [
    "print(\"[ORL_DATASET PCA+KNN]\")\n",
    "orl_pca = pca.PCA()\n",
    "orl_pca.fit(ORL_DATASET_FEATURES)\n",
    "\n",
    "orl_pca_knn_clf_acc = []\n",
    "# animator = MyAnimator(xlabel='n_components', xlim=[3, VEHICLE_DATASET_NDIM], ylim=[0.2, 1.0],\n",
    "#                       legend=['test accuracy'])  # 绘图\n",
    "\n",
    "for cnt, n_component in enumerate(range(10, ORL_DATASET_NDIM, 5)):\n",
    "    acc = pca.pca_knn_clf(orl_pca, ORL_DATASET_LABEL, n_component)  # PCA+KNN分类器\n",
    "    print(\"Number of dimensions reduced to {:^3d}, classification accuracy: {:.4f}\".format(n_component, acc))\n",
    "\n",
    "    orl_pca_knn_clf_acc.append(acc)\n",
    "    # animator.add(n_component, acc)\n",
    "\n",
    "# animator.savefig(\"fig/vehicle_pca_knn_clf.pdf\")"
   ],
   "metadata": {
    "collapsed": false
   }
  },
  {
   "cell_type": "markdown",
   "source": [
    "## Q2: LDA+KNN\n",
    "\n",
    "LDA +KNN，即首先 LDA 进行降维，然后采用最近邻分类器(1 近邻分类 器)作为分类器进行分类。\n",
    "\n",
    "### Vehicle数据集"
   ],
   "metadata": {
    "collapsed": false
   }
  },
  {
   "cell_type": "code",
   "execution_count": 2,
   "outputs": [
    {
     "name": "stdout",
     "output_type": "stream",
     "text": [
      "[VEHICLE_DATASET LDA+KNN]\n",
      "Class number: 4\n",
      "Dataset size: 846\n",
      "Dataset dim: 18 \n",
      "Number of dimensions reduced to  1 , classification accuracy: 0.5118\n",
      "Number of dimensions reduced to  2 , classification accuracy: 0.6824\n",
      "Number of dimensions reduced to  3 , classification accuracy: 0.6941\n"
     ]
    }
   ],
   "source": [
    "import lda\n",
    "\n",
    "print(\"[VEHICLE_DATASET LDA+KNN]\")\n",
    "vehicle_lda = lda.LDA()\n",
    "vehicle_lda.fit(VEHICLE_DATASET_FEATURES, VEHICLE_DATASET_LABEL)\n",
    "\n",
    "vehicle_lda_knn_clf_acc = []\n",
    "# animator = MyAnimator(xlabel='n_components', xlim=[3, VEHICLE_DATASET_NDIM], ylim=[0.2, 1.0],\n",
    "#                       legend=['test accuracy'])  # 绘图\n",
    "\n",
    "for cnt, n_component in enumerate(range(1, 4)):\n",
    "    acc = lda.lda_knn_clf(vehicle_lda, n_component)  # LDA+KNN分类器\n",
    "    print(\"Number of dimensions reduced to {:^3d}, classification accuracy: {:.4f}\".format(n_component, acc))\n",
    "\n",
    "    vehicle_lda_knn_clf_acc.append(acc)"
   ],
   "metadata": {
    "collapsed": false
   }
  },
  {
   "cell_type": "markdown",
   "source": [
    "### ORL数据集"
   ],
   "metadata": {
    "collapsed": false
   }
  },
  {
   "cell_type": "code",
   "execution_count": 3,
   "outputs": [
    {
     "name": "stdout",
     "output_type": "stream",
     "text": [
      "[ORL_DATASET LDA+KNN]\n",
      "Class number: 40\n",
      "Dataset size: 400\n",
      "Dataset dim: 644\n"
     ]
    },
    {
     "ename": "ValueError",
     "evalue": "Complex data not supported\n[[ 21.5566076  +0.j          40.7886752  +0.j\n   31.1409362  +0.j         ...  13.91049142+18.71889933j\n   13.91049142-18.71889933j -26.00114625 +0.j        ]\n [ 24.90307358 +0.j          43.86365083 +0.j\n   32.53285824 +0.j         ...   6.16512473+12.89386974j\n    6.16512473-12.89386974j  -3.09809955 +0.j        ]\n [ 31.59920199 +0.j          35.98989908 +0.j\n    5.7228567  +0.j         ...  15.29743309+12.49975245j\n   15.29743309-12.49975245j -30.84366622 +0.j        ]\n ...\n [ 45.44088471 +0.j          25.22368106 +0.j\n   12.46243498 +0.j         ... -12.47894533+12.78120118j\n  -12.47894533-12.78120118j -32.73504445 +0.j        ]\n [ 30.99046504 +0.j          29.96183211 +0.j\n    4.8776569  +0.j         ...  23.36919087+14.59349153j\n   23.36919087-14.59349153j -41.29087522 +0.j        ]\n [ 33.0960587  +0.j          24.96364686 +0.j\n   33.5160972  +0.j         ...   4.21281172 +5.45560691j\n    4.21281172 -5.45560691j -41.85956254 +0.j        ]]\n",
     "output_type": "error",
     "traceback": [
      "\u001B[0;31m---------------------------------------------------------------------------\u001B[0m",
      "\u001B[0;31mValueError\u001B[0m                                Traceback (most recent call last)",
      "Cell \u001B[0;32mIn [3], line 10\u001B[0m\n\u001B[1;32m      6\u001B[0m \u001B[38;5;66;03m# animator = MyAnimator(xlabel='n_components', xlim=[3, VEHICLE_DATASET_NDIM], ylim=[0.2, 1.0],\u001B[39;00m\n\u001B[1;32m      7\u001B[0m \u001B[38;5;66;03m#                       legend=['test accuracy'])  # 绘图\u001B[39;00m\n\u001B[1;32m      9\u001B[0m \u001B[38;5;28;01mfor\u001B[39;00m cnt, n_component \u001B[38;5;129;01min\u001B[39;00m \u001B[38;5;28menumerate\u001B[39m(\u001B[38;5;28mrange\u001B[39m(\u001B[38;5;241m10\u001B[39m, \u001B[38;5;241m40\u001B[39m, \u001B[38;5;241m5\u001B[39m)):\n\u001B[0;32m---> 10\u001B[0m     acc \u001B[38;5;241m=\u001B[39m \u001B[43mlda\u001B[49m\u001B[38;5;241;43m.\u001B[39;49m\u001B[43mlda_knn_clf\u001B[49m\u001B[43m(\u001B[49m\u001B[43mORL_lda\u001B[49m\u001B[43m,\u001B[49m\u001B[43m \u001B[49m\u001B[43mn_component\u001B[49m\u001B[43m)\u001B[49m  \u001B[38;5;66;03m# LDA+KNN分类器\u001B[39;00m\n\u001B[1;32m     11\u001B[0m     \u001B[38;5;28mprint\u001B[39m(\u001B[38;5;124m\"\u001B[39m\u001B[38;5;124mNumber of dimensions reduced to \u001B[39m\u001B[38;5;132;01m{:^3d}\u001B[39;00m\u001B[38;5;124m, classification accuracy: \u001B[39m\u001B[38;5;132;01m{:.4f}\u001B[39;00m\u001B[38;5;124m\"\u001B[39m\u001B[38;5;241m.\u001B[39mformat(n_component, acc))\n\u001B[1;32m     13\u001B[0m     ORL_lda_knn_clf_acc\u001B[38;5;241m.\u001B[39mappend(acc)\n",
      "File \u001B[0;32m~/Projects/Pycharm/pr/feature-extraction-and-selection/lda.py:81\u001B[0m, in \u001B[0;36mlda_knn_clf\u001B[0;34m(_lda, _n_components)\u001B[0m\n\u001B[1;32m     79\u001B[0m \u001B[38;5;28;01mdef\u001B[39;00m \u001B[38;5;21mlda_knn_clf\u001B[39m(_lda, _n_components\u001B[38;5;241m=\u001B[39m\u001B[38;5;28;01mNone\u001B[39;00m):\n\u001B[1;32m     80\u001B[0m     data_x_reduced, _data_y \u001B[38;5;241m=\u001B[39m _lda\u001B[38;5;241m.\u001B[39mtransform(_n_components)  \u001B[38;5;66;03m# LDA降维\u001B[39;00m\n\u001B[0;32m---> 81\u001B[0m     clf_accuracy \u001B[38;5;241m=\u001B[39m \u001B[43mknn_clf\u001B[49m\u001B[43m(\u001B[49m\u001B[43mdata_x_reduced\u001B[49m\u001B[43m,\u001B[49m\u001B[43m \u001B[49m\u001B[43m_data_y\u001B[49m\u001B[43m)\u001B[49m\n\u001B[1;32m     82\u001B[0m     \u001B[38;5;28;01mreturn\u001B[39;00m clf_accuracy\n",
      "File \u001B[0;32m~/Projects/Pycharm/pr/feature-extraction-and-selection/knn_clf.py:15\u001B[0m, in \u001B[0;36mknn_clf\u001B[0;34m(_data_x, _data_y, _n_neighbors)\u001B[0m\n\u001B[1;32m     12\u001B[0m train_x, test_x, train_y, test_y \u001B[38;5;241m=\u001B[39m train_test_split(_data_x, _data_y, test_size\u001B[38;5;241m=\u001B[39m\u001B[38;5;241m0.2\u001B[39m, random_state\u001B[38;5;241m=\u001B[39m\u001B[38;5;241m42\u001B[39m)\n\u001B[1;32m     14\u001B[0m clf \u001B[38;5;241m=\u001B[39m KNeighborsClassifier(n_neighbors\u001B[38;5;241m=\u001B[39m_n_neighbors)\n\u001B[0;32m---> 15\u001B[0m \u001B[43mclf\u001B[49m\u001B[38;5;241;43m.\u001B[39;49m\u001B[43mfit\u001B[49m\u001B[43m(\u001B[49m\u001B[43mtrain_x\u001B[49m\u001B[43m,\u001B[49m\u001B[43m \u001B[49m\u001B[43mtrain_y\u001B[49m\u001B[43m)\u001B[49m\n\u001B[1;32m     17\u001B[0m accuracy \u001B[38;5;241m=\u001B[39m clf\u001B[38;5;241m.\u001B[39mscore(test_x, test_y)  \u001B[38;5;66;03m# 测试结果\u001B[39;00m\n\u001B[1;32m     18\u001B[0m \u001B[38;5;28;01mreturn\u001B[39;00m accuracy\n",
      "File \u001B[0;32m~/opt/miniconda3/envs/pr/lib/python3.9/site-packages/sklearn/neighbors/_classification.py:215\u001B[0m, in \u001B[0;36mKNeighborsClassifier.fit\u001B[0;34m(self, X, y)\u001B[0m\n\u001B[1;32m    196\u001B[0m \u001B[38;5;124;03m\"\"\"Fit the k-nearest neighbors classifier from the training dataset.\u001B[39;00m\n\u001B[1;32m    197\u001B[0m \n\u001B[1;32m    198\u001B[0m \u001B[38;5;124;03mParameters\u001B[39;00m\n\u001B[0;32m   (...)\u001B[0m\n\u001B[1;32m    211\u001B[0m \u001B[38;5;124;03m    The fitted k-nearest neighbors classifier.\u001B[39;00m\n\u001B[1;32m    212\u001B[0m \u001B[38;5;124;03m\"\"\"\u001B[39;00m\n\u001B[1;32m    213\u001B[0m \u001B[38;5;28mself\u001B[39m\u001B[38;5;241m.\u001B[39m_validate_params()\n\u001B[0;32m--> 215\u001B[0m \u001B[38;5;28;01mreturn\u001B[39;00m \u001B[38;5;28;43mself\u001B[39;49m\u001B[38;5;241;43m.\u001B[39;49m\u001B[43m_fit\u001B[49m\u001B[43m(\u001B[49m\u001B[43mX\u001B[49m\u001B[43m,\u001B[49m\u001B[43m \u001B[49m\u001B[43my\u001B[49m\u001B[43m)\u001B[49m\n",
      "File \u001B[0;32m~/opt/miniconda3/envs/pr/lib/python3.9/site-packages/sklearn/neighbors/_base.py:454\u001B[0m, in \u001B[0;36mNeighborsBase._fit\u001B[0;34m(self, X, y)\u001B[0m\n\u001B[1;32m    452\u001B[0m \u001B[38;5;28;01mif\u001B[39;00m \u001B[38;5;28mself\u001B[39m\u001B[38;5;241m.\u001B[39m_get_tags()[\u001B[38;5;124m\"\u001B[39m\u001B[38;5;124mrequires_y\u001B[39m\u001B[38;5;124m\"\u001B[39m]:\n\u001B[1;32m    453\u001B[0m     \u001B[38;5;28;01mif\u001B[39;00m \u001B[38;5;129;01mnot\u001B[39;00m \u001B[38;5;28misinstance\u001B[39m(X, (KDTree, BallTree, NeighborsBase)):\n\u001B[0;32m--> 454\u001B[0m         X, y \u001B[38;5;241m=\u001B[39m \u001B[38;5;28;43mself\u001B[39;49m\u001B[38;5;241;43m.\u001B[39;49m\u001B[43m_validate_data\u001B[49m\u001B[43m(\u001B[49m\n\u001B[1;32m    455\u001B[0m \u001B[43m            \u001B[49m\u001B[43mX\u001B[49m\u001B[43m,\u001B[49m\u001B[43m \u001B[49m\u001B[43my\u001B[49m\u001B[43m,\u001B[49m\u001B[43m \u001B[49m\u001B[43maccept_sparse\u001B[49m\u001B[38;5;241;43m=\u001B[39;49m\u001B[38;5;124;43m\"\u001B[39;49m\u001B[38;5;124;43mcsr\u001B[39;49m\u001B[38;5;124;43m\"\u001B[39;49m\u001B[43m,\u001B[49m\u001B[43m \u001B[49m\u001B[43mmulti_output\u001B[49m\u001B[38;5;241;43m=\u001B[39;49m\u001B[38;5;28;43;01mTrue\u001B[39;49;00m\u001B[43m,\u001B[49m\u001B[43m \u001B[49m\u001B[43morder\u001B[49m\u001B[38;5;241;43m=\u001B[39;49m\u001B[38;5;124;43m\"\u001B[39;49m\u001B[38;5;124;43mC\u001B[39;49m\u001B[38;5;124;43m\"\u001B[39;49m\n\u001B[1;32m    456\u001B[0m \u001B[43m        \u001B[49m\u001B[43m)\u001B[49m\n\u001B[1;32m    458\u001B[0m     \u001B[38;5;28;01mif\u001B[39;00m is_classifier(\u001B[38;5;28mself\u001B[39m):\n\u001B[1;32m    459\u001B[0m         \u001B[38;5;66;03m# Classification targets require a specific format\u001B[39;00m\n\u001B[1;32m    460\u001B[0m         \u001B[38;5;28;01mif\u001B[39;00m y\u001B[38;5;241m.\u001B[39mndim \u001B[38;5;241m==\u001B[39m \u001B[38;5;241m1\u001B[39m \u001B[38;5;129;01mor\u001B[39;00m y\u001B[38;5;241m.\u001B[39mndim \u001B[38;5;241m==\u001B[39m \u001B[38;5;241m2\u001B[39m \u001B[38;5;129;01mand\u001B[39;00m y\u001B[38;5;241m.\u001B[39mshape[\u001B[38;5;241m1\u001B[39m] \u001B[38;5;241m==\u001B[39m \u001B[38;5;241m1\u001B[39m:\n",
      "File \u001B[0;32m~/opt/miniconda3/envs/pr/lib/python3.9/site-packages/sklearn/base.py:554\u001B[0m, in \u001B[0;36mBaseEstimator._validate_data\u001B[0;34m(self, X, y, reset, validate_separately, **check_params)\u001B[0m\n\u001B[1;32m    552\u001B[0m         y \u001B[38;5;241m=\u001B[39m check_array(y, input_name\u001B[38;5;241m=\u001B[39m\u001B[38;5;124m\"\u001B[39m\u001B[38;5;124my\u001B[39m\u001B[38;5;124m\"\u001B[39m, \u001B[38;5;241m*\u001B[39m\u001B[38;5;241m*\u001B[39mcheck_y_params)\n\u001B[1;32m    553\u001B[0m     \u001B[38;5;28;01melse\u001B[39;00m:\n\u001B[0;32m--> 554\u001B[0m         X, y \u001B[38;5;241m=\u001B[39m \u001B[43mcheck_X_y\u001B[49m\u001B[43m(\u001B[49m\u001B[43mX\u001B[49m\u001B[43m,\u001B[49m\u001B[43m \u001B[49m\u001B[43my\u001B[49m\u001B[43m,\u001B[49m\u001B[43m \u001B[49m\u001B[38;5;241;43m*\u001B[39;49m\u001B[38;5;241;43m*\u001B[39;49m\u001B[43mcheck_params\u001B[49m\u001B[43m)\u001B[49m\n\u001B[1;32m    555\u001B[0m     out \u001B[38;5;241m=\u001B[39m X, y\n\u001B[1;32m    557\u001B[0m \u001B[38;5;28;01mif\u001B[39;00m \u001B[38;5;129;01mnot\u001B[39;00m no_val_X \u001B[38;5;129;01mand\u001B[39;00m check_params\u001B[38;5;241m.\u001B[39mget(\u001B[38;5;124m\"\u001B[39m\u001B[38;5;124mensure_2d\u001B[39m\u001B[38;5;124m\"\u001B[39m, \u001B[38;5;28;01mTrue\u001B[39;00m):\n",
      "File \u001B[0;32m~/opt/miniconda3/envs/pr/lib/python3.9/site-packages/sklearn/utils/validation.py:1104\u001B[0m, in \u001B[0;36mcheck_X_y\u001B[0;34m(X, y, accept_sparse, accept_large_sparse, dtype, order, copy, force_all_finite, ensure_2d, allow_nd, multi_output, ensure_min_samples, ensure_min_features, y_numeric, estimator)\u001B[0m\n\u001B[1;32m   1099\u001B[0m         estimator_name \u001B[38;5;241m=\u001B[39m _check_estimator_name(estimator)\n\u001B[1;32m   1100\u001B[0m     \u001B[38;5;28;01mraise\u001B[39;00m \u001B[38;5;167;01mValueError\u001B[39;00m(\n\u001B[1;32m   1101\u001B[0m         \u001B[38;5;124mf\u001B[39m\u001B[38;5;124m\"\u001B[39m\u001B[38;5;132;01m{\u001B[39;00mestimator_name\u001B[38;5;132;01m}\u001B[39;00m\u001B[38;5;124m requires y to be passed, but the target y is None\u001B[39m\u001B[38;5;124m\"\u001B[39m\n\u001B[1;32m   1102\u001B[0m     )\n\u001B[0;32m-> 1104\u001B[0m X \u001B[38;5;241m=\u001B[39m \u001B[43mcheck_array\u001B[49m\u001B[43m(\u001B[49m\n\u001B[1;32m   1105\u001B[0m \u001B[43m    \u001B[49m\u001B[43mX\u001B[49m\u001B[43m,\u001B[49m\n\u001B[1;32m   1106\u001B[0m \u001B[43m    \u001B[49m\u001B[43maccept_sparse\u001B[49m\u001B[38;5;241;43m=\u001B[39;49m\u001B[43maccept_sparse\u001B[49m\u001B[43m,\u001B[49m\n\u001B[1;32m   1107\u001B[0m \u001B[43m    \u001B[49m\u001B[43maccept_large_sparse\u001B[49m\u001B[38;5;241;43m=\u001B[39;49m\u001B[43maccept_large_sparse\u001B[49m\u001B[43m,\u001B[49m\n\u001B[1;32m   1108\u001B[0m \u001B[43m    \u001B[49m\u001B[43mdtype\u001B[49m\u001B[38;5;241;43m=\u001B[39;49m\u001B[43mdtype\u001B[49m\u001B[43m,\u001B[49m\n\u001B[1;32m   1109\u001B[0m \u001B[43m    \u001B[49m\u001B[43morder\u001B[49m\u001B[38;5;241;43m=\u001B[39;49m\u001B[43morder\u001B[49m\u001B[43m,\u001B[49m\n\u001B[1;32m   1110\u001B[0m \u001B[43m    \u001B[49m\u001B[43mcopy\u001B[49m\u001B[38;5;241;43m=\u001B[39;49m\u001B[43mcopy\u001B[49m\u001B[43m,\u001B[49m\n\u001B[1;32m   1111\u001B[0m \u001B[43m    \u001B[49m\u001B[43mforce_all_finite\u001B[49m\u001B[38;5;241;43m=\u001B[39;49m\u001B[43mforce_all_finite\u001B[49m\u001B[43m,\u001B[49m\n\u001B[1;32m   1112\u001B[0m \u001B[43m    \u001B[49m\u001B[43mensure_2d\u001B[49m\u001B[38;5;241;43m=\u001B[39;49m\u001B[43mensure_2d\u001B[49m\u001B[43m,\u001B[49m\n\u001B[1;32m   1113\u001B[0m \u001B[43m    \u001B[49m\u001B[43mallow_nd\u001B[49m\u001B[38;5;241;43m=\u001B[39;49m\u001B[43mallow_nd\u001B[49m\u001B[43m,\u001B[49m\n\u001B[1;32m   1114\u001B[0m \u001B[43m    \u001B[49m\u001B[43mensure_min_samples\u001B[49m\u001B[38;5;241;43m=\u001B[39;49m\u001B[43mensure_min_samples\u001B[49m\u001B[43m,\u001B[49m\n\u001B[1;32m   1115\u001B[0m \u001B[43m    \u001B[49m\u001B[43mensure_min_features\u001B[49m\u001B[38;5;241;43m=\u001B[39;49m\u001B[43mensure_min_features\u001B[49m\u001B[43m,\u001B[49m\n\u001B[1;32m   1116\u001B[0m \u001B[43m    \u001B[49m\u001B[43mestimator\u001B[49m\u001B[38;5;241;43m=\u001B[39;49m\u001B[43mestimator\u001B[49m\u001B[43m,\u001B[49m\n\u001B[1;32m   1117\u001B[0m \u001B[43m    \u001B[49m\u001B[43minput_name\u001B[49m\u001B[38;5;241;43m=\u001B[39;49m\u001B[38;5;124;43m\"\u001B[39;49m\u001B[38;5;124;43mX\u001B[39;49m\u001B[38;5;124;43m\"\u001B[39;49m\u001B[43m,\u001B[49m\n\u001B[1;32m   1118\u001B[0m \u001B[43m\u001B[49m\u001B[43m)\u001B[49m\n\u001B[1;32m   1120\u001B[0m y \u001B[38;5;241m=\u001B[39m _check_y(y, multi_output\u001B[38;5;241m=\u001B[39mmulti_output, y_numeric\u001B[38;5;241m=\u001B[39my_numeric, estimator\u001B[38;5;241m=\u001B[39mestimator)\n\u001B[1;32m   1122\u001B[0m check_consistent_length(X, y)\n",
      "File \u001B[0;32m~/opt/miniconda3/envs/pr/lib/python3.9/site-packages/sklearn/utils/validation.py:887\u001B[0m, in \u001B[0;36mcheck_array\u001B[0;34m(array, accept_sparse, accept_large_sparse, dtype, order, copy, force_all_finite, ensure_2d, allow_nd, ensure_min_samples, ensure_min_features, estimator, input_name)\u001B[0m\n\u001B[1;32m    879\u001B[0m         \u001B[38;5;28;01mraise\u001B[39;00m \u001B[38;5;167;01mValueError\u001B[39;00m(\n\u001B[1;32m    880\u001B[0m             \u001B[38;5;124m\"\u001B[39m\u001B[38;5;124mComplex data not supported\u001B[39m\u001B[38;5;130;01m\\n\u001B[39;00m\u001B[38;5;132;01m{}\u001B[39;00m\u001B[38;5;130;01m\\n\u001B[39;00m\u001B[38;5;124m\"\u001B[39m\u001B[38;5;241m.\u001B[39mformat(array)\n\u001B[1;32m    881\u001B[0m         ) \u001B[38;5;28;01mfrom\u001B[39;00m \u001B[38;5;21;01mcomplex_warning\u001B[39;00m\n\u001B[1;32m    883\u001B[0m \u001B[38;5;66;03m# It is possible that the np.array(..) gave no warning. This happens\u001B[39;00m\n\u001B[1;32m    884\u001B[0m \u001B[38;5;66;03m# when no dtype conversion happened, for example dtype = None. The\u001B[39;00m\n\u001B[1;32m    885\u001B[0m \u001B[38;5;66;03m# result is that np.array(..) produces an array of complex dtype\u001B[39;00m\n\u001B[1;32m    886\u001B[0m \u001B[38;5;66;03m# and we need to catch and raise exception for such cases.\u001B[39;00m\n\u001B[0;32m--> 887\u001B[0m \u001B[43m_ensure_no_complex_data\u001B[49m\u001B[43m(\u001B[49m\u001B[43marray\u001B[49m\u001B[43m)\u001B[49m\n\u001B[1;32m    889\u001B[0m \u001B[38;5;28;01mif\u001B[39;00m ensure_2d:\n\u001B[1;32m    890\u001B[0m     \u001B[38;5;66;03m# If input is scalar raise error\u001B[39;00m\n\u001B[1;32m    891\u001B[0m     \u001B[38;5;28;01mif\u001B[39;00m array\u001B[38;5;241m.\u001B[39mndim \u001B[38;5;241m==\u001B[39m \u001B[38;5;241m0\u001B[39m:\n",
      "File \u001B[0;32m~/opt/miniconda3/envs/pr/lib/python3.9/site-packages/sklearn/utils/validation.py:578\u001B[0m, in \u001B[0;36m_ensure_no_complex_data\u001B[0;34m(array)\u001B[0m\n\u001B[1;32m    571\u001B[0m \u001B[38;5;28;01mdef\u001B[39;00m \u001B[38;5;21m_ensure_no_complex_data\u001B[39m(array):\n\u001B[1;32m    572\u001B[0m     \u001B[38;5;28;01mif\u001B[39;00m (\n\u001B[1;32m    573\u001B[0m         \u001B[38;5;28mhasattr\u001B[39m(array, \u001B[38;5;124m\"\u001B[39m\u001B[38;5;124mdtype\u001B[39m\u001B[38;5;124m\"\u001B[39m)\n\u001B[1;32m    574\u001B[0m         \u001B[38;5;129;01mand\u001B[39;00m array\u001B[38;5;241m.\u001B[39mdtype \u001B[38;5;129;01mis\u001B[39;00m \u001B[38;5;129;01mnot\u001B[39;00m \u001B[38;5;28;01mNone\u001B[39;00m\n\u001B[1;32m    575\u001B[0m         \u001B[38;5;129;01mand\u001B[39;00m \u001B[38;5;28mhasattr\u001B[39m(array\u001B[38;5;241m.\u001B[39mdtype, \u001B[38;5;124m\"\u001B[39m\u001B[38;5;124mkind\u001B[39m\u001B[38;5;124m\"\u001B[39m)\n\u001B[1;32m    576\u001B[0m         \u001B[38;5;129;01mand\u001B[39;00m array\u001B[38;5;241m.\u001B[39mdtype\u001B[38;5;241m.\u001B[39mkind \u001B[38;5;241m==\u001B[39m \u001B[38;5;124m\"\u001B[39m\u001B[38;5;124mc\u001B[39m\u001B[38;5;124m\"\u001B[39m\n\u001B[1;32m    577\u001B[0m     ):\n\u001B[0;32m--> 578\u001B[0m         \u001B[38;5;28;01mraise\u001B[39;00m \u001B[38;5;167;01mValueError\u001B[39;00m(\u001B[38;5;124m\"\u001B[39m\u001B[38;5;124mComplex data not supported\u001B[39m\u001B[38;5;130;01m\\n\u001B[39;00m\u001B[38;5;132;01m{}\u001B[39;00m\u001B[38;5;130;01m\\n\u001B[39;00m\u001B[38;5;124m\"\u001B[39m\u001B[38;5;241m.\u001B[39mformat(array))\n",
      "\u001B[0;31mValueError\u001B[0m: Complex data not supported\n[[ 21.5566076  +0.j          40.7886752  +0.j\n   31.1409362  +0.j         ...  13.91049142+18.71889933j\n   13.91049142-18.71889933j -26.00114625 +0.j        ]\n [ 24.90307358 +0.j          43.86365083 +0.j\n   32.53285824 +0.j         ...   6.16512473+12.89386974j\n    6.16512473-12.89386974j  -3.09809955 +0.j        ]\n [ 31.59920199 +0.j          35.98989908 +0.j\n    5.7228567  +0.j         ...  15.29743309+12.49975245j\n   15.29743309-12.49975245j -30.84366622 +0.j        ]\n ...\n [ 45.44088471 +0.j          25.22368106 +0.j\n   12.46243498 +0.j         ... -12.47894533+12.78120118j\n  -12.47894533-12.78120118j -32.73504445 +0.j        ]\n [ 30.99046504 +0.j          29.96183211 +0.j\n    4.8776569  +0.j         ...  23.36919087+14.59349153j\n   23.36919087-14.59349153j -41.29087522 +0.j        ]\n [ 33.0960587  +0.j          24.96364686 +0.j\n   33.5160972  +0.j         ...   4.21281172 +5.45560691j\n    4.21281172 -5.45560691j -41.85956254 +0.j        ]]\n"
     ]
    }
   ],
   "source": [
    "print(\"[ORL_DATASET LDA+KNN]\")\n",
    "ORL_lda = lda.LDA()\n",
    "ORL_lda.fit(ORL_DATASET_FEATURES, ORL_DATASET_LABEL)\n",
    "\n",
    "ORL_lda_knn_clf_acc = []\n",
    "# animator = MyAnimator(xlabel='n_components', xlim=[3, VEHICLE_DATASET_NDIM], ylim=[0.2, 1.0],\n",
    "#                       legend=['test accuracy'])  # 绘图\n",
    "\n",
    "for cnt, n_component in enumerate(range(10, 40, 5)):\n",
    "    acc = lda.lda_knn_clf(ORL_lda, n_component)  # LDA+KNN分类器\n",
    "    print(\"Number of dimensions reduced to {:^3d}, classification accuracy: {:.4f}\".format(n_component, acc))\n",
    "\n",
    "    ORL_lda_knn_clf_acc.append(acc)"
   ],
   "metadata": {
    "collapsed": false
   }
  },
  {
   "cell_type": "code",
   "execution_count": null,
   "outputs": [],
   "source": [],
   "metadata": {
    "collapsed": false
   }
  }
 ],
 "metadata": {
  "kernelspec": {
   "display_name": "Python 3",
   "language": "python",
   "name": "python3"
  },
  "language_info": {
   "codemirror_mode": {
    "name": "ipython",
    "version": 2
   },
   "file_extension": ".py",
   "mimetype": "text/x-python",
   "name": "python",
   "nbconvert_exporter": "python",
   "pygments_lexer": "ipython2",
   "version": "2.7.6"
  }
 },
 "nbformat": 4,
 "nbformat_minor": 0
}
