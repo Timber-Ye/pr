{
 "cells": [
  {
   "cell_type": "markdown",
   "source": [
    "# Feature Extraction\n",
    "\n",
    "任务:采用 80%作样本作训练集，20%样本做测试集，报告降至不同维数时的分类性能。"
   ],
   "metadata": {
    "collapsed": false
   }
  },
  {
   "cell_type": "code",
   "execution_count": null,
   "metadata": {
    "collapsed": true
   },
   "outputs": [],
   "source": [
    "# 以下分别是Vehicle数据集、ORL数据集存储路径。\n",
    "VEHICLE_DATASET_DIR = 'data/vehicle.txt'\n",
    "ORL_DATASET_DIR = 'data/ORLData_25.txt'\n",
    "\n",
    "# 读取数据集\n",
    "import numpy as np\n",
    "VEHICLE_DATASET = np.loadtxt(VEHICLE_DATASET_DIR, delimiter='\\t', dtype=int)\n",
    "VEHICLE_DATASET_FEATURES, VEHICLE_DATASET_LABEL = VEHICLE_DATASET[:, :-1], VEHICLE_DATASET[:, -1]\n",
    "VEHICLE_DATASET_NDIM = VEHICLE_DATASET_FEATURES.shape[1]\n",
    "\n",
    "ORL_DATASET = np.loadtxt(ORL_DATASET_DIR, delimiter='\\t', dtype=int)\n",
    "ORL_DATASET_FEATURES, ORL_DATASET_LABEL = ORL_DATASET[:, :-1], ORL_DATASET[:, -1]\n",
    "ORL_DATASET_NDIM = ORL_DATASET_FEATURES.shape[1]\n",
    "\n",
    "from Animator import MyAnimator"
   ]
  },
  {
   "cell_type": "markdown",
   "source": [
    "## Q1: PCA+KNN\n",
    "\n",
    "即首先 PCA 进行降维，然后采用最近邻分类器 (1 近邻分类器) 作为分类器进行分类。PCA+KNN: 即首先 PCA 进行降维，然后采用最近邻分类器 (1 近邻分类器) 作为分类器进行分类。\n",
    "\n",
    "### Vehicle数据集"
   ],
   "metadata": {
    "collapsed": false
   }
  },
  {
   "cell_type": "code",
   "execution_count": null,
   "outputs": [],
   "source": [
    "import pca\n",
    "\n",
    "print(\"[VEHICLE_DATASET PCA+KNN]\")\n",
    "vehicle_pca = pca.PCA()  #  PCA初始化\n",
    "vehicle_pca.fit(VEHICLE_DATASET_FEATURES)\n",
    "\n",
    "vehicle_pca_knn_clf_acc = []\n",
    "animator = MyAnimator(xlabel='n_components', xlim=[3, VEHICLE_DATASET_NDIM], ylim=[0.2, 1.0],\n",
    "                      legend=['test accuracy'])  # 动态绘图\n",
    "\n",
    "for cnt, n_component in enumerate(range(2, VEHICLE_DATASET_NDIM, 2)):\n",
    "    acc = pca.pca_knn_clf(vehicle_pca, VEHICLE_DATASET_LABEL, n_component)  # PCA+KNN分类器\n",
    "    print(\"Number of dimensions reduced to {:^3d}, classification accuracy: {:.4f}\".format(n_component, acc))\n",
    "\n",
    "    vehicle_pca_knn_clf_acc.append(acc)\n",
    "    animator.add(n_component, acc)\n",
    "\n",
    "# animator.savefig(\"fig/vehicle_pca_knn_clf.pdf\")"
   ],
   "metadata": {
    "collapsed": false
   }
  },
  {
   "cell_type": "markdown",
   "source": [
    "### ORL数据集"
   ],
   "metadata": {
    "collapsed": false
   }
  },
  {
   "cell_type": "code",
   "execution_count": null,
   "outputs": [],
   "source": [
    "print(\"[ORL_DATASET PCA+KNN]\")\n",
    "orl_pca = pca.PCA()\n",
    "orl_pca.fit(ORL_DATASET_FEATURES)\n",
    "\n",
    "orl_pca_knn_clf_acc = []\n",
    "animator = MyAnimator(xlabel='n_components', xlim=[3, VEHICLE_DATASET_NDIM], ylim=[0.2, 1.0], legend=['test accuracy'])  # 绘图\n",
    "\n",
    "for cnt, n_component in enumerate(range(10, ORL_DATASET_NDIM, 5)):\n",
    "    acc = pca.pca_knn_clf(orl_pca, ORL_DATASET_LABEL, n_component)  # PCA+KNN分类器\n",
    "    print(\"Number of dimensions reduced to {:^3d}, classification accuracy: {:.4f}\".format(n_component, acc))\n",
    "    orl_pca_knn_clf_acc.append((n_component, acc))\n",
    "    animator.add(n_component, acc)\n",
    "\n",
    "# animator.savefig(\"fig/vehicle_pca_knn_clf.pdf\")"
   ],
   "metadata": {
    "collapsed": false
   }
  },
  {
   "cell_type": "markdown",
   "source": [
    "## Q2: LDA+KNN\n",
    "\n",
    "LDA +KNN，即首先 LDA 进行降维，然后采用最近邻分类器(1 近邻分类 器)作为分类器进行分类。\n",
    "\n",
    "### Vehicle数据集"
   ],
   "metadata": {
    "collapsed": false
   }
  },
  {
   "cell_type": "code",
   "execution_count": null,
   "outputs": [],
   "source": [
    "import lda\n",
    "\n",
    "print(\"[VEHICLE_DATASET LDA+KNN]\")\n",
    "vehicle_lda = lda.LDA()\n",
    "vehicle_lda.fit(VEHICLE_DATASET_FEATURES, VEHICLE_DATASET_LABEL)\n",
    "\n",
    "vehicle_lda_knn_clf_acc = []\n",
    "animator = MyAnimator(xlabel='n_components', xlim=[3, VEHICLE_DATASET_NDIM], ylim=[0.2, 1.0], legend=['test accuracy'])  # 绘图\n",
    "\n",
    "for cnt, n_component in enumerate(range(1, 4)):\n",
    "    acc = lda.lda_knn_clf(vehicle_lda, n_component)  # LDA+KNN分类器\n",
    "    print(\"Number of dimensions reduced to {:^3d}, classification accuracy: {:.4f}\".format(n_component, acc))\n",
    "\n",
    "    vehicle_lda_knn_clf_acc.append((n_component, acc))\n",
    "    animator.add(n_component, acc)\n"
   ],
   "metadata": {
    "collapsed": false
   }
  },
  {
   "cell_type": "markdown",
   "source": [
    "### ORL数据集"
   ],
   "metadata": {
    "collapsed": false
   }
  },
  {
   "cell_type": "code",
   "execution_count": null,
   "outputs": [],
   "source": [
    "import lda\n",
    "print(\"[ORL_DATASET LDA+KNN]\")\n",
    "ORL_lda = lda.LDA()\n",
    "ORL_lda.fit(ORL_DATASET_FEATURES/255, ORL_DATASET_LABEL)\n",
    "\n",
    "ORL_lda_knn_clf_acc = []\n",
    "animator = MyAnimator(xlabel='n_components', xlim=[3, VEHICLE_DATASET_NDIM], ylim=[0.2, 1.0], legend=['test accuracy'])  # 绘图\n",
    "\n",
    "for cnt, n_component in enumerate(range(1, 10, 1)):\n",
    "    acc = lda.lda_knn_clf(ORL_lda, n_component)  # LDA+KNN分类器\n",
    "    print(\"Number of dimensions reduced to {:^3d}, classification accuracy: {:.4f}\".format(n_component, acc))\n",
    "\n",
    "    ORL_lda_knn_clf_acc.append((n_component, acc))\n",
    "    animator.add(n_component, acc)"
   ],
   "metadata": {
    "collapsed": false
   }
  }
 ],
 "metadata": {
  "kernelspec": {
   "display_name": "Python 3",
   "language": "python",
   "name": "python3"
  },
  "language_info": {
   "codemirror_mode": {
    "name": "ipython",
    "version": 2
   },
   "file_extension": ".py",
   "mimetype": "text/x-python",
   "name": "python",
   "nbconvert_exporter": "python",
   "pygments_lexer": "ipython2",
   "version": "2.7.6"
  }
 },
 "nbformat": 4,
 "nbformat_minor": 0
}
